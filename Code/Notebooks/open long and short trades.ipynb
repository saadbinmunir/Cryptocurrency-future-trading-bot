{
 "cells": [
  {
   "cell_type": "markdown",
   "metadata": {},
   "source": [
    "## Future Trading using Python"
   ]
  },
  {
   "cell_type": "code",
   "execution_count": null,
   "metadata": {},
   "outputs": [],
   "source": [
    "!pip install python-binance"
   ]
  },
  {
   "cell_type": "code",
   "execution_count": null,
   "metadata": {},
   "outputs": [],
   "source": [
    "# Import libraries\n",
    "from binance import Client"
   ]
  },
  {
   "cell_type": "code",
   "execution_count": null,
   "metadata": {},
   "outputs": [],
   "source": [
    "# Define variables\n",
    "api_key = ''\n",
    "api_secret = ''\n",
    "\n",
    "client = Client(api_key,api_secret)\n",
    "\n",
    "sym = 'DOTUSDT'\n",
    "\n",
    "quantity = 1"
   ]
  },
  {
   "cell_type": "code",
   "execution_count": 19,
   "metadata": {},
   "outputs": [],
   "source": [
    "# Long position\n",
    "def oneway_open_long(client, sym, quantity):\n",
    "    client.futures_create_order(\n",
    "        symbol = sym,\n",
    "        side = 'BUY',\n",
    "        type = 'MARKET',\n",
    "        quantity = quantity\n",
    "    )\n",
    "\n",
    "# Short position\n",
    "def oneway_open_short(client, sym, quantity):\n",
    "    client.futures_create_order(\n",
    "        symbol = sym,\n",
    "        side = 'SELL',\n",
    "        type = 'MARKET',\n",
    "        quantity = quantity\n",
    "    )"
   ]
  },
  {
   "cell_type": "code",
   "execution_count": 20,
   "metadata": {},
   "outputs": [],
   "source": [
    "# Code to call function to open a long trade\n",
    "oneway_open_long(client, sym, quantity)"
   ]
  },
  {
   "cell_type": "code",
   "execution_count": 21,
   "metadata": {},
   "outputs": [],
   "source": [
    "# # Code to call function to open a short trade\n",
    "oneway_open_short(client, sym, quantity)"
   ]
  },
  {
   "cell_type": "code",
   "execution_count": null,
   "metadata": {},
   "outputs": [],
   "source": []
  }
 ],
 "metadata": {
  "kernelspec": {
   "display_name": "Python 3.8.8 ('base')",
   "language": "python",
   "name": "python3"
  },
  "language_info": {
   "codemirror_mode": {
    "name": "ipython",
    "version": 3
   },
   "file_extension": ".py",
   "mimetype": "text/x-python",
   "name": "python",
   "nbconvert_exporter": "python",
   "pygments_lexer": "ipython3",
   "version": "3.8.8"
  },
  "orig_nbformat": 4,
  "vscode": {
   "interpreter": {
    "hash": "ba7ae3595d3acf814302224465ab21bf082861afa21f5a1f6efa3054af63e00f"
   }
  }
 },
 "nbformat": 4,
 "nbformat_minor": 2
}
